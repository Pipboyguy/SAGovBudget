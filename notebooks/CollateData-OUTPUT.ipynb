{
 "cells": [
  {
   "cell_type": "markdown",
   "id": "895e8dda",
   "metadata": {
    "tags": [
     "papermill-error-cell-tag"
    ]
   },
   "source": [
    "<span style=\"color:red; font-family:Helvetica Neue, Helvetica, Arial, sans-serif; font-size:2em;\">An Exception was encountered at '<a href=\"#papermill-error-cell\">In [4]</a>'.</span>"
   ]
  },
  {
   "cell_type": "markdown",
   "id": "2bfee30e-f479-42d3-a5c2-dbc2cc95f21b",
   "metadata": {
    "papermill": {
     "duration": 0.075719,
     "end_time": "2021-09-21T19:38:17.518883",
     "exception": false,
     "start_time": "2021-09-21T19:38:17.443164",
     "status": "completed"
    },
    "tags": []
   },
   "source": [
    "# Collate, Clean data and publish as SQLite Database"
   ]
  },
  {
   "cell_type": "markdown",
   "id": "31af8553-01b0-427b-8597-c8722f9675db",
   "metadata": {
    "papermill": {
     "duration": 0.059733,
     "end_time": "2021-09-21T19:38:17.653593",
     "exception": false,
     "start_time": "2021-09-21T19:38:17.593860",
     "status": "completed"
    },
    "tags": []
   },
   "source": [
    "## Notes:\n",
    "\n",
    "1. Police data presented at econclass level, because the departments does not use main government accounting system (BAS). Integration has a 6 weeks lag.\n",
    "2. Defence data presented at econclass level, because the department does not use main government accounting system (BAS). Integration has a 6 weeks lag and only at the item level.\n",
    "3. Parliament excluded from dataset because the department does not use the main government accounting system (BAS).\n",
    "4. SCoA report tables separate Direct Charges from Appropriated Fund spending, and the same approach has been used here by filtering on FUND_LEVEL_2\n",
    "5. Debt Service Costs and National Revenue Fund Payments (under National Treasury) are included at econclass level since these payments are not made through the main government accounting system (BAS).\n",
    "\n",
    "## TODO:\n",
    "\n",
    " - [ ] Download files directly from government website in notebook\n",
    " - [ ] Tests, both in ETL process as well as main repo\n",
    " - [ ] Implement logging, but papermill logs errors so maybe not necessary"
   ]
  },
  {
   "cell_type": "markdown",
   "id": "8f948a5d",
   "metadata": {
    "papermill": {
     "duration": 0.080395,
     "end_time": "2021-09-21T19:38:17.809782",
     "exception": false,
     "start_time": "2021-09-21T19:38:17.729387",
     "status": "completed"
    },
    "tags": []
   },
   "source": [
    "<p style=\"color:rgb(255,0,0);\">Discrepancies:</p>\n",
    "\n",
    "<ol>\n",
    "    <li>2020-21-Q3 National.csv link doesn't direct to right direction</li>\n",
    "</ol>"
   ]
  },
  {
   "cell_type": "markdown",
   "id": "4d2fe30f-ea48-4035-9662-661eaad21667",
   "metadata": {
    "papermill": {
     "duration": 0.086401,
     "end_time": "2021-09-21T19:38:17.964631",
     "exception": false,
     "start_time": "2021-09-21T19:38:17.878230",
     "status": "completed"
    },
    "tags": []
   },
   "source": [
    "## Imports"
   ]
  },
  {
   "cell_type": "code",
   "execution_count": 1,
   "id": "37ff43e0",
   "metadata": {
    "execution": {
     "iopub.execute_input": "2021-09-21T19:38:18.136659Z",
     "iopub.status.busy": "2021-09-21T19:38:18.126165Z",
     "iopub.status.idle": "2021-09-21T19:38:19.110510Z",
     "shell.execute_reply": "2021-09-21T19:38:19.108536Z"
    },
    "papermill": {
     "duration": 1.07224,
     "end_time": "2021-09-21T19:38:19.110963",
     "exception": false,
     "start_time": "2021-09-21T19:38:18.038723",
     "status": "completed"
    },
    "tags": []
   },
   "outputs": [],
   "source": [
    "import os\n",
    "import pathlib\n",
    "import sqlite3\n",
    "import warnings\n",
    "from zipfile import ZipFile\n",
    "from urllib.parse import urljoin\n",
    "\n",
    "import requests\n",
    "import numpy as np\n",
    "import pandas as pd\n",
    "from rarfile import RarFile\n",
    "from tqdm import tqdm\n",
    "from io import BytesIO\n",
    "\n",
    "warnings.simplefilter(action=\"ignore\", category=FutureWarning)\n",
    "pd.set_option(\"display.max_columns\", None)"
   ]
  },
  {
   "cell_type": "markdown",
   "id": "8e07b02d-f57d-47f3-b8e5-46b642f06303",
   "metadata": {
    "papermill": {
     "duration": 0.080599,
     "end_time": "2021-09-21T19:38:19.265934",
     "exception": false,
     "start_time": "2021-09-21T19:38:19.185335",
     "status": "completed"
    },
    "tags": []
   },
   "source": [
    "## Utility Functions"
   ]
  },
  {
   "cell_type": "code",
   "execution_count": 2,
   "id": "e44b4de6-347e-48c1-b20c-01f807af5c11",
   "metadata": {
    "execution": {
     "iopub.execute_input": "2021-09-21T19:38:19.429662Z",
     "iopub.status.busy": "2021-09-21T19:38:19.421627Z",
     "iopub.status.idle": "2021-09-21T19:38:19.437451Z",
     "shell.execute_reply": "2021-09-21T19:38:19.434886Z"
    },
    "papermill": {
     "duration": 0.112571,
     "end_time": "2021-09-21T19:38:19.438388",
     "exception": false,
     "start_time": "2021-09-21T19:38:19.325817",
     "status": "completed"
    },
    "tags": []
   },
   "outputs": [],
   "source": [
    "def read_dirty_treasury_csv(\n",
    "    path: pathlib.PurePath, cols_to_use: list, dtypes: dict\n",
    ") -> pd.DataFrame:\n",
    "\n",
    "    df = pd.read_csv(\n",
    "        path,\n",
    "        encoding=\"Windows-1252\",\n",
    "        sep=\",\",\n",
    "        usecols=cols_to_use,\n",
    "        skip_blank_lines=True,\n",
    "        error_bad_lines=False,\n",
    "        warn_bad_lines=False,  # Need to deal with these eventually\n",
    "        low_memory=False,\n",
    "        dtype=dtypes,\n",
    "        thousands=\" \",\n",
    "        na_values=\"NaN\",\n",
    "        skipinitialspace=True,\n",
    "    )\n",
    "\n",
    "    return df"
   ]
  },
  {
   "cell_type": "markdown",
   "id": "090ede2a",
   "metadata": {
    "papermill": {
     "duration": 0.066273,
     "end_time": "2021-09-21T19:38:19.581642",
     "exception": false,
     "start_time": "2021-09-21T19:38:19.515369",
     "status": "completed"
    },
    "tags": []
   },
   "source": [
    "## Download Data"
   ]
  },
  {
   "cell_type": "code",
   "execution_count": 3,
   "id": "77538316-eedb-4301-8806-7f1c9c098ee0",
   "metadata": {
    "execution": {
     "iopub.execute_input": "2021-09-21T19:38:19.770316Z",
     "iopub.status.busy": "2021-09-21T19:38:19.754395Z",
     "iopub.status.idle": "2021-09-21T19:38:19.782302Z",
     "shell.execute_reply": "2021-09-21T19:38:19.780738Z"
    },
    "papermill": {
     "duration": 0.119368,
     "end_time": "2021-09-21T19:38:19.782588",
     "exception": false,
     "start_time": "2021-09-21T19:38:19.663220",
     "status": "completed"
    },
    "tags": []
   },
   "outputs": [],
   "source": [
    "TREASURY_BASE_URL = \"http://www.treasury.gov.za/statistics/Quarterly%20spending%20data/\"\n",
    "DATA_PATH = pathlib.Path(\"/home/jovyan/work/data/\")\n",
    "FILE_ENDPOINTS = {\n",
    "    \"2019_Q1\": \"2019/SCOA_for_web.rar\",\n",
    "    \"2019_Q2\": \"2019/2019-20-Q2%20National.rar\",\n",
    "    \"2019_Q3\": \"2019/2019-20-Q3%20National.rar\",\n",
    "    \"2019_Q4\": \"2019/2019-20-Q4%20National.rar\",\n",
    "    \"2020_Q1\": \"2020/2020-21-Q1%20National.rar\",\n",
    "    \"2020_Q2\": \"2020/2020-21-Q2%20National.zip\",\n",
    "    # \"2020_Q3\":\"2020/2020-21-Q3%20National.zip\", # This link is broken on website\n",
    "    \"2020_Q4\": \"2020/2020-21-Q4%20National.zip\",\n",
    "    \"2021_Q1\": \"2021/2021-22-Q1%20National.zip\",\n",
    "}\n",
    "FILE_ENDPOINTS_FULL = {\n",
    "    k: urljoin(TREASURY_BASE_URL, v) for k, v in FILE_ENDPOINTS.items()\n",
    "}\n",
    "\n",
    "# function to download file from treasury's website\n",
    "def download_file(url: str, path_to_save: pathlib.PurePath) -> None:\n",
    "    \"\"\"\n",
    "    Adapted from\n",
    "    https://stackoverflow.com/questions/6861323/download-and-unzip-file-with-python\n",
    "    \"\"\"\n",
    "\n",
    "    suffix = pathlib.Path(url).suffix\n",
    "    if suffix == \".rar\":\n",
    "\n",
    "        print(f\"Downloading {url}...\", end=\"\")\n",
    "        response = requests.get(url).content\n",
    "        print(\"DONE!\")\n",
    "\n",
    "        bytes_in_memory = BytesIO(response)\n",
    "        rar_file_object = RarFile(bytes_in_memory, \"r\")\n",
    "        \n",
    "        # open csv file\n",
    "        csv_file = rar_file_object.open(csv_file_name := rar_file_object.namelist()[0])\n",
    "        csv_content_bytes = csv_file.read()\n",
    "        \n",
    "        print(f\"Extracted {csv_file_name} from {pathlib.Path(url).name}. \"\n",
    "              f\"Saving to {str(path_to_save)}...\", end=\"\")\n",
    "\n",
    "        file_write_handler =  open(path_to_save, \"wb\")\n",
    "        file_write_handler.write(csv_content_bytes)\n",
    "            \n",
    "        # cleanup\n",
    "        file_write_handler.close()\n",
    "        rar_file_object.close()\n",
    "        bytes_in_memory.close()\n",
    "        \n",
    "        print(\"DONE!\\n\")\n",
    "\n",
    "    elif suffix == \".zip\":\n",
    "\n",
    "        print(f\"Downloading {url}...\", end=\"\")\n",
    "        response = requests.get(url).content\n",
    "        print(\"DONE!\")\n",
    "\n",
    "        bytes_in_memory = BytesIO(response)\n",
    "        zip_file_object = ZipFile(bytes_in_memory, \"r\")\n",
    "        \n",
    "        # open csv file\n",
    "        csv_file = zip_file_object.open(csv_file_name := zip_file_object.namelist()[0])\n",
    "        csv_content_bytes = csv_file.read()\n",
    "        \n",
    "        print(f\"Extracted {csv_file_name} from {pathlib.Path(url).name}. \"\n",
    "              f\"Saving to {str(path_to_save)}...\", end=\"\")\n",
    "\n",
    "        file_write_handler =  open(path_to_save, \"wb\")\n",
    "        file_write_handler.write(csv_content_bytes)\n",
    "            \n",
    "        # cleanup\n",
    "        file_write_handler.close()\n",
    "        zip_file_object.close()\n",
    "        bytes_in_memory.close()\n",
    "        \n",
    "        print(\"DONE!\\n\")\n",
    "            \n",
    "    else:\n",
    "        pass"
   ]
  },
  {
   "cell_type": "markdown",
   "id": "18d16ac6",
   "metadata": {
    "tags": [
     "papermill-error-cell-tag"
    ]
   },
   "source": [
    "<span id=\"papermill-error-cell\" style=\"color:red; font-family:Helvetica Neue, Helvetica, Arial, sans-serif; font-size:2em;\">Execution using papermill encountered an exception here and stopped:</span>"
   ]
  },
  {
   "cell_type": "code",
   "execution_count": 4,
   "id": "f0579927-e2cb-49fe-8978-288f69942b2a",
   "metadata": {
    "execution": {
     "iopub.execute_input": "2021-09-21T19:38:19.956653Z",
     "iopub.status.busy": "2021-09-21T19:38:19.954850Z",
     "iopub.status.idle": "2021-09-21T19:38:28.256443Z",
     "shell.execute_reply": "2021-09-21T19:38:28.252554Z"
    },
    "papermill": {
     "duration": 8.390372,
     "end_time": "2021-09-21T19:38:28.257221",
     "exception": true,
     "start_time": "2021-09-21T19:38:19.866849",
     "status": "failed"
    },
    "tags": []
   },
   "outputs": [
    {
     "name": "stdout",
     "output_type": "stream",
     "text": [
      "Downloading http://www.treasury.gov.za/statistics/Quarterly%20spending%20data/2019/SCOA_for_web.rar...DONE!\n",
      "Extracted SCOA_for_web.csv from SCOA_for_web.rar. Saving to /home/jovyan/work/data/raw/2019_Q1.csv..."
     ]
    },
    {
     "ename": "FileNotFoundError",
     "evalue": "[Errno 2] No such file or directory: '/home/jovyan/work/data/raw/2019_Q1.csv'",
     "output_type": "error",
     "traceback": [
      "\u001b[0;31m---------------------------------------------------------------------------\u001b[0m",
      "\u001b[0;31mFileNotFoundError\u001b[0m                         Traceback (most recent call last)",
      "\u001b[0;32m/tmp/ipykernel_42/3523253512.py\u001b[0m in \u001b[0;36m<module>\u001b[0;34m\u001b[0m\n\u001b[1;32m      6\u001b[0m     \u001b[0mtimeperiod\u001b[0m \u001b[0;34m=\u001b[0m \u001b[0mcsv_to_save\u001b[0m\u001b[0;34m.\u001b[0m\u001b[0mname\u001b[0m\u001b[0;34m.\u001b[0m\u001b[0mstrip\u001b[0m\u001b[0;34m(\u001b[0m\u001b[0;34m\".csv\"\u001b[0m\u001b[0;34m)\u001b[0m\u001b[0;34m\u001b[0m\u001b[0;34m\u001b[0m\u001b[0m\n\u001b[1;32m      7\u001b[0m \u001b[0;34m\u001b[0m\u001b[0m\n\u001b[0;32m----> 8\u001b[0;31m     \u001b[0mdownload_file\u001b[0m\u001b[0;34m(\u001b[0m\u001b[0mFILE_ENDPOINTS_FULL\u001b[0m\u001b[0;34m[\u001b[0m\u001b[0mtimeperiod\u001b[0m\u001b[0;34m]\u001b[0m\u001b[0;34m,\u001b[0m \u001b[0mcsv_to_save\u001b[0m\u001b[0;34m)\u001b[0m\u001b[0;34m\u001b[0m\u001b[0;34m\u001b[0m\u001b[0m\n\u001b[0m",
      "\u001b[0;32m/tmp/ipykernel_42/2508935181.py\u001b[0m in \u001b[0;36mdownload_file\u001b[0;34m(url, path_to_save)\u001b[0m\n\u001b[1;32m     40\u001b[0m               f\"Saving to {str(path_to_save)}...\", end=\"\")\n\u001b[1;32m     41\u001b[0m \u001b[0;34m\u001b[0m\u001b[0m\n\u001b[0;32m---> 42\u001b[0;31m         \u001b[0mfile_write_handler\u001b[0m \u001b[0;34m=\u001b[0m  \u001b[0mopen\u001b[0m\u001b[0;34m(\u001b[0m\u001b[0mpath_to_save\u001b[0m\u001b[0;34m,\u001b[0m \u001b[0;34m\"wb\"\u001b[0m\u001b[0;34m)\u001b[0m\u001b[0;34m\u001b[0m\u001b[0;34m\u001b[0m\u001b[0m\n\u001b[0m\u001b[1;32m     43\u001b[0m         \u001b[0mfile_write_handler\u001b[0m\u001b[0;34m.\u001b[0m\u001b[0mwrite\u001b[0m\u001b[0;34m(\u001b[0m\u001b[0mcsv_content_bytes\u001b[0m\u001b[0;34m)\u001b[0m\u001b[0;34m\u001b[0m\u001b[0;34m\u001b[0m\u001b[0m\n\u001b[1;32m     44\u001b[0m \u001b[0;34m\u001b[0m\u001b[0m\n",
      "\u001b[0;31mFileNotFoundError\u001b[0m: [Errno 2] No such file or directory: '/home/jovyan/work/data/raw/2019_Q1.csv'"
     ]
    }
   ],
   "source": [
    "csvs_to_save = [\n",
    "    DATA_PATH / \"raw/{}.csv\".format(f) for f in sorted(FILE_ENDPOINTS_FULL.keys())\n",
    "]\n",
    "\n",
    "for csv_to_save in csvs_to_save:\n",
    "    timeperiod = csv_to_save.name.strip(\".csv\")\n",
    "\n",
    "    download_file(FILE_ENDPOINTS_FULL[timeperiod], csv_to_save)"
   ]
  },
  {
   "cell_type": "markdown",
   "id": "3ae63107",
   "metadata": {
    "papermill": {
     "duration": null,
     "end_time": null,
     "exception": null,
     "start_time": null,
     "status": "pending"
    },
    "tags": []
   },
   "source": [
    "## Collate and Clean Data"
   ]
  },
  {
   "cell_type": "code",
   "execution_count": null,
   "id": "be2601da",
   "metadata": {
    "papermill": {
     "duration": null,
     "end_time": null,
     "exception": null,
     "start_time": null,
     "status": "pending"
    },
    "tags": []
   },
   "outputs": [],
   "source": [
    "metadata_dict = {\n",
    "    \"Description\": {\n",
    "        \"Vote No#\": \"Vote number of the department\",\n",
    "        \"Department\": \"Department name\",\n",
    "        \"Programme No#\": \"Programme number as specified in the ENE\",\n",
    "        \"Programme\": \"Programme name within the department\",\n",
    "        \"Subprogramme No#\": \"Subprogramme number as specified in the ENE\",\n",
    "        \"Subprogramme\": \"subprogramme name within the parent programme\",\n",
    "        \"econClass_L1\": \"economic classification of spending level 1\",\n",
    "        \"econClass_L2\": \"economic classification of spending level 2\",\n",
    "        \"econClass_L3\": \"economic classification of spending level 3\",\n",
    "        \"econClass_L4\": \"economic classification of spending level 4\",\n",
    "        \"econClass_L5\": \"economic classification of spending level 5\",\n",
    "        \"IYM_econLowestLevel\": \"lowest level economic classification of spending as submitted in the IYM to the Treasury\",\n",
    "        \"Item_Lowest_Level\": \"SCoA Item segment lowest level\",\n",
    "        \"Assets_Level_1\": \"SCoA Asset segment level 1\",\n",
    "        \"Assets_Level_2\": \"SCoA Asset segment level 2\",\n",
    "        \"Assets_Level_3\": \"SCoA Asset segment level 3\",\n",
    "        \"Assets_Level_4\": \"SCoA Asset segment level 4\",\n",
    "        \"Assets_Level_5\": \"SCoA Asset segment level 5\",\n",
    "        \"Assets_Level_6\": \"SCoA Asset segment level 6\",\n",
    "        \"Assets_Lowest_Level\": \"SCoA Asset segment lowest level\",\n",
    "        \"Project_Level_1\": \"SCoA Project segment level 1\",\n",
    "        \"Project_Level_2\": \"SCoA Project segment level 2\",\n",
    "        \"Project_Level_3\": \"SCoA Project segment level 3\",\n",
    "        \"Project_Level_4\": \"SCoA Project segment level 4\",\n",
    "        \"Project_Level_5\": \"SCoA Project segment level 5\",\n",
    "        \"Project_Level_6\": \"SCoA Project segment level 6\",\n",
    "        \"Project_Level_7\": \"SCoA Project segment level 7\",\n",
    "        \"Project_Level_8\": \"SCoA Project segment level 8\",\n",
    "        \"Project_Level_9\": \"SCoA Project segment level 9\",\n",
    "        \"Project_Level_10\": \"SCoA Project segment level 10\",\n",
    "        \"Project_Level_11\": \"SCoA Project segment level 11\",\n",
    "        \"Project_Lowest_Level\": \"SCoA Project segment lowest level\",\n",
    "        \"Responsibility_Level_2\": \"SCoA Responsibility segment level 2\",\n",
    "        \"Responsibility_Level_3\": \"SCoA Responsibility segment level 3\",\n",
    "        \"Responsibility_Level_4\": \"SCoA Responsibility segment level 4\",\n",
    "        \"Responsibility_Level_5\": \"SCoA Responsibility segment level 5\",\n",
    "        \"Responsibility_Level_6\": \"SCoA Responsibility segment level 6\",\n",
    "        \"Responsibility_Level_7\": \"SCoA Responsibility segment level 7\",\n",
    "        \"Responsibility_Level_8\": \"SCoA Responsibility segment level 8\",\n",
    "        \"Responsibility_Level_9\": \"SCoA Responsibility segment level 9\",\n",
    "        \"Responsibility_Level_10\": \"SCoA Responsibility segment level 10\",\n",
    "        \"Responsibility_Level_11\": \"SCoA Responsibility segment level 11\",\n",
    "        \"Responsibility_Level_12\": \"SCoA Responsibility segment level 12\",\n",
    "        \"Responsibility_Level_13\": \"SCoA Responsibility segment level 13\",\n",
    "        \"Responsibility_Level_14\": \"SCoA Responsibility segment level 14\",\n",
    "        \"Responsibility_Level_15\": \"SCoA Responsibility segment level 15\",\n",
    "        \"Responsibility_Lowest_Level\": \"SCoA Responsibility segment lowest level\",\n",
    "        \"Fund_Level_1\": \"SCoA Fund segment level 1\",\n",
    "        \"Fund_Level_2\": \"SCoA Fund segment level 2\",\n",
    "        \"Fund_Level_3\": \"SCoA Fund segment level 3\",\n",
    "        \"Fund_Level_4\": \"SCoA Fund segment level 4\",\n",
    "        \"Fund_Level_5\": \"SCoA Fund segment level 5\",\n",
    "        \"Fund_Level_6\": \"SCoA Fund segment level 6\",\n",
    "        \"Fund_Level_7\": \"SCoA Fund segment level 7\",\n",
    "        \"Fund_Level_8\": \"SCoA Fund segment level 8\",\n",
    "        \"Fund_Lowest_Level\": \"SCoA Fund segment lowest level\",\n",
    "        \"Infrastructure_Level_1\": \"SCoA Infrastructure segment level 1\",\n",
    "        \"Infrastructure_Level_2\": \"SCoA Infrastructure segment level 2\",\n",
    "        \"Infrastructure_Level_3\": \"SCoA Infrastructure segment level 3\",\n",
    "        \"Infrastructure_Level_4\": \"SCoA Infrastructure segment level 4\",\n",
    "        \"Infrastructure_Level_5\": \"SCoA Infrastructure segment level 5\",\n",
    "        \"Infrastructure_Level_6\": \"SCoA Infrastructure segment level 6\",\n",
    "        \"Infrastructure_Lowest_Level\": \"SCoA Infrastructure segment lowest level\",\n",
    "        \"Item_Level_1\": \"SCoA Item segment level 1\",\n",
    "        \"Item_Level_2\": \"SCoA Item segment level 2\",\n",
    "        \"Item_Level_3\": \"SCoA Item segment level 3\",\n",
    "        \"Item_Level_4\": \"SCoA Item segment level 4\",\n",
    "        \"Item_Level_5\": \"SCoA Item segment level 5\",\n",
    "        \"Item_Level_6\": \"SCoA Item segment level 6\",\n",
    "        \"Item_Level_7\": \"SCoA Item segment level 7\",\n",
    "        \"Item_Level_8\": \"SCoA Item segment level 8\",\n",
    "        \"Regional_ID_Level_1\": \"SCoA Regional segment level 1\",\n",
    "        \"Regional_ID_Level_2\": \"SCoA Regional segment level 2\",\n",
    "        \"Regional_ID_Level_3\": \"SCoA Regional segment level 3\",\n",
    "        \"Regional_ID_Level_4\": \"SCoA Regional segment level 4\",\n",
    "        \"Regional_ID_Level_5\": \"SCoA Regional segment level 5\",\n",
    "        \"Regional_ID_Level_6\": \"SCoA Regional segment level 6\",\n",
    "        \"Regional_ID_Level_7\": \"SCoA Regional segment level 7\",\n",
    "        \"Regional_ID_Level_8\": \"SCoA Regional segment level 8\",\n",
    "        \"Regional_ID_Lowest_Level\": \"SCoA Regional segment lowest level\",\n",
    "        \"Budget\": \"Budgeted amount\",\n",
    "        \"AdjustmentBudget\": \"Adjustments to the original budget\",\n",
    "        \"April\": \"April expenditure\",\n",
    "        \"May\": \"May expenditure\",\n",
    "        \"June\": \"June expenditure\",\n",
    "        \"July\": \"July expenditure\",\n",
    "        \"August\": \"August expenditure\",\n",
    "        \"September\": \"September expenditure\",\n",
    "        \"October\": \"October expenditure\",\n",
    "        \"November\": \"November expenditure\",\n",
    "        \"December\": \"December expenditure\",\n",
    "        \"January\": \"January expenditure\",\n",
    "        \"February\": \"February expenditure\",\n",
    "        \"March\": \"March expenditure\",\n",
    "        \"Q1\": \"Quarter one expenditure (April + May + June)\",\n",
    "        \"Q2\": \"Quarter two expenditure (July + August + Spetember)\",\n",
    "        \"Q3\": \"Quarter one expenditure (October + November + December)\",\n",
    "        \"Q4\": \"Quarter one expenditure (January + February + March)\",\n",
    "        \"Financial_Year\": \"Financial year ( period April - March)\",\n",
    "    },\n",
    "    \"Data type\": {\n",
    "        \"Vote No#\": \"number\",\n",
    "        \"Department\": \"text\",\n",
    "        \"Programme No#\": \"number\",\n",
    "        \"Programme\": \"text\",\n",
    "        \"Subprogramme No#\": \"text\",\n",
    "        \"Subprogramme\": \"text\",\n",
    "        \"econClass_L1\": \"text\",\n",
    "        \"econClass_L2\": \"text\",\n",
    "        \"econClass_L3\": \"text\",\n",
    "        \"econClass_L4\": \"text\",\n",
    "        \"econClass_L5\": \"text\",\n",
    "        \"IYM_econLowestLevel\": \"text\",\n",
    "        \"Item_Lowest_Level\": \"text\",\n",
    "        \"Assets_Level_1\": \"text\",\n",
    "        \"Assets_Level_2\": \"text\",\n",
    "        \"Assets_Level_3\": \"text\",\n",
    "        \"Assets_Level_4\": \"text\",\n",
    "        \"Assets_Level_5\": \"text\",\n",
    "        \"Assets_Level_6\": \"text\",\n",
    "        \"Assets_Lowest_Level\": \"text\",\n",
    "        \"Project_Level_1\": \"text\",\n",
    "        \"Project_Level_2\": \"text\",\n",
    "        \"Project_Level_3\": \"text\",\n",
    "        \"Project_Level_4\": \"text\",\n",
    "        \"Project_Level_5\": \"text\",\n",
    "        \"Project_Level_6\": \"text\",\n",
    "        \"Project_Level_7\": \"text\",\n",
    "        \"Project_Level_8\": \"text\",\n",
    "        \"Project_Level_9\": \"text\",\n",
    "        \"Project_Level_10\": \"text\",\n",
    "        \"Project_Level_11\": \"text\",\n",
    "        \"Project_Lowest_Level\": \"text\",\n",
    "        \"Responsibility_Level_2\": \"text\",\n",
    "        \"Responsibility_Level_3\": \"text\",\n",
    "        \"Responsibility_Level_4\": \"text\",\n",
    "        \"Responsibility_Level_5\": \"text\",\n",
    "        \"Responsibility_Level_6\": \"text\",\n",
    "        \"Responsibility_Level_7\": \"text\",\n",
    "        \"Responsibility_Level_8\": \"text\",\n",
    "        \"Responsibility_Level_9\": \"text\",\n",
    "        \"Responsibility_Level_10\": \"text\",\n",
    "        \"Responsibility_Level_11\": \"text\",\n",
    "        \"Responsibility_Level_12\": \"text\",\n",
    "        \"Responsibility_Level_13\": \"text\",\n",
    "        \"Responsibility_Level_14\": \"text\",\n",
    "        \"Responsibility_Level_15\": \"text\",\n",
    "        \"Responsibility_Lowest_Level\": \"text\",\n",
    "        \"Fund_Level_1\": \"text\",\n",
    "        \"Fund_Level_2\": \"text\",\n",
    "        \"Fund_Level_3\": \"text\",\n",
    "        \"Fund_Level_4\": \"text\",\n",
    "        \"Fund_Level_5\": \"text\",\n",
    "        \"Fund_Level_6\": \"text\",\n",
    "        \"Fund_Level_7\": \"text\",\n",
    "        \"Fund_Level_8\": \"text\",\n",
    "        \"Fund_Lowest_Level\": \"text\",\n",
    "        \"Infrastructure_Level_1\": \"text\",\n",
    "        \"Infrastructure_Level_2\": \"text\",\n",
    "        \"Infrastructure_Level_3\": \"text\",\n",
    "        \"Infrastructure_Level_4\": \"text\",\n",
    "        \"Infrastructure_Level_5\": \"text\",\n",
    "        \"Infrastructure_Level_6\": \"text\",\n",
    "        \"Infrastructure_Lowest_Level\": \"text\",\n",
    "        \"Item_Level_1\": \"text\",\n",
    "        \"Item_Level_2\": \"text\",\n",
    "        \"Item_Level_3\": \"text\",\n",
    "        \"Item_Level_4\": \"text\",\n",
    "        \"Item_Level_5\": \"text\",\n",
    "        \"Item_Level_6\": \"text\",\n",
    "        \"Item_Level_7\": \"text\",\n",
    "        \"Item_Level_8\": \"text\",\n",
    "        \"Regional_ID_Level_1\": \"text\",\n",
    "        \"Regional_ID_Level_2\": \"text\",\n",
    "        \"Regional_ID_Level_3\": \"text\",\n",
    "        \"Regional_ID_Level_4\": \"text\",\n",
    "        \"Regional_ID_Level_5\": \"text\",\n",
    "        \"Regional_ID_Level_6\": \"text\",\n",
    "        \"Regional_ID_Level_7\": \"text\",\n",
    "        \"Regional_ID_Level_8\": \"text\",\n",
    "        \"Regional_ID_Lowest_Level\": \"text\",\n",
    "        \"Budget\": \"number\",\n",
    "        \"AdjustmentBudget\": \"number\",\n",
    "        \"April\": \"number\",\n",
    "        \"May\": \"number\",\n",
    "        \"June\": \"number\",\n",
    "        \"July\": \"number\",\n",
    "        \"August\": \"number\",\n",
    "        \"September\": \"number\",\n",
    "        \"October\": \"number\",\n",
    "        \"November\": \"number\",\n",
    "        \"December\": \"number\",\n",
    "        \"January\": \"number\",\n",
    "        \"February\": \"number\",\n",
    "        \"March\": \"number\",\n",
    "        \"Q1\": \"number\",\n",
    "        \"Q2\": \"number\",\n",
    "        \"Q3\": \"number\",\n",
    "        \"Q4\": \"number\",\n",
    "        \"Financial_Year\": \"text\",\n",
    "    },\n",
    "    \"Sample attributes\": {\n",
    "        \"Vote No#\": \"1 - 40\",\n",
    "        \"Department\": \"The Presidency, Home Affairs\",\n",
    "        \"Programme No#\": \"1 - 10\",\n",
    "        \"Programme\": \"Administration, Citizen Affairs\",\n",
    "        \"Subprogramme No#\": \"1 - 15\",\n",
    "        \"Subprogramme\": \"Ministry, Service delivery to Provinces\",\n",
    "        \"econClass_L1\": \"Payments, Receipts\",\n",
    "        \"econClass_L2\": \"Current payments, Payments for capital assets\",\n",
    "        \"econClass_L3\": \"Goods and services, Buildings and other structures\",\n",
    "        \"econClass_L4\": \"Consultants: Business and advisory services, Inventory: Fuel, oil and gas\",\n",
    "        \"econClass_L5\": \"Subsidies on products and production (pe)\",\n",
    "        \"IYM_econLowestLevel\": \"Administrative fees, Advertising\",\n",
    "        \"Item_Lowest_Level\": \"A&S/O/S:LEGAL SERVICE, \",\n",
    "        \"Assets_Level_1\": np.nan,\n",
    "        \"Assets_Level_2\": np.nan,\n",
    "        \"Assets_Level_3\": np.nan,\n",
    "        \"Assets_Level_4\": np.nan,\n",
    "        \"Assets_Level_5\": np.nan,\n",
    "        \"Assets_Level_6\": np.nan,\n",
    "        \"Assets_Lowest_Level\": np.nan,\n",
    "        \"Project_Level_1\": np.nan,\n",
    "        \"Project_Level_2\": np.nan,\n",
    "        \"Project_Level_3\": np.nan,\n",
    "        \"Project_Level_4\": np.nan,\n",
    "        \"Project_Level_5\": np.nan,\n",
    "        \"Project_Level_6\": np.nan,\n",
    "        \"Project_Level_7\": np.nan,\n",
    "        \"Project_Level_8\": np.nan,\n",
    "        \"Project_Level_9\": np.nan,\n",
    "        \"Project_Level_10\": np.nan,\n",
    "        \"Project_Level_11\": np.nan,\n",
    "        \"Project_Lowest_Level\": np.nan,\n",
    "        \"Responsibility_Level_2\": np.nan,\n",
    "        \"Responsibility_Level_3\": np.nan,\n",
    "        \"Responsibility_Level_4\": np.nan,\n",
    "        \"Responsibility_Level_5\": np.nan,\n",
    "        \"Responsibility_Level_6\": np.nan,\n",
    "        \"Responsibility_Level_7\": np.nan,\n",
    "        \"Responsibility_Level_8\": np.nan,\n",
    "        \"Responsibility_Level_9\": np.nan,\n",
    "        \"Responsibility_Level_10\": np.nan,\n",
    "        \"Responsibility_Level_11\": np.nan,\n",
    "        \"Responsibility_Level_12\": np.nan,\n",
    "        \"Responsibility_Level_13\": np.nan,\n",
    "        \"Responsibility_Level_14\": np.nan,\n",
    "        \"Responsibility_Level_15\": np.nan,\n",
    "        \"Responsibility_Lowest_Level\": np.nan,\n",
    "        \"Fund_Level_1\": \"EXPENDITURE:VOTED\",\n",
    "        \"Fund_Level_2\": np.nan,\n",
    "        \"Fund_Level_3\": np.nan,\n",
    "        \"Fund_Level_4\": np.nan,\n",
    "        \"Fund_Level_5\": np.nan,\n",
    "        \"Fund_Level_6\": np.nan,\n",
    "        \"Fund_Level_7\": np.nan,\n",
    "        \"Fund_Level_8\": np.nan,\n",
    "        \"Fund_Lowest_Level\": np.nan,\n",
    "        \"Infrastructure_Level_1\": np.nan,\n",
    "        \"Infrastructure_Level_2\": np.nan,\n",
    "        \"Infrastructure_Level_3\": np.nan,\n",
    "        \"Infrastructure_Level_4\": np.nan,\n",
    "        \"Infrastructure_Level_5\": np.nan,\n",
    "        \"Infrastructure_Level_6\": np.nan,\n",
    "        \"Infrastructure_Lowest_Level\": np.nan,\n",
    "        \"Item_Level_1\": np.nan,\n",
    "        \"Item_Level_2\": np.nan,\n",
    "        \"Item_Level_3\": np.nan,\n",
    "        \"Item_Level_4\": np.nan,\n",
    "        \"Item_Level_5\": np.nan,\n",
    "        \"Item_Level_6\": np.nan,\n",
    "        \"Item_Level_7\": np.nan,\n",
    "        \"Item_Level_8\": np.nan,\n",
    "        \"Regional_ID_Level_1\": np.nan,\n",
    "        \"Regional_ID_Level_2\": np.nan,\n",
    "        \"Regional_ID_Level_3\": np.nan,\n",
    "        \"Regional_ID_Level_4\": np.nan,\n",
    "        \"Regional_ID_Level_5\": np.nan,\n",
    "        \"Regional_ID_Level_6\": np.nan,\n",
    "        \"Regional_ID_Level_7\": np.nan,\n",
    "        \"Regional_ID_Level_8\": np.nan,\n",
    "        \"Regional_ID_Lowest_Level\": np.nan,\n",
    "        \"Budget\": \"0, 5000\",\n",
    "        \"AdjustmentBudget\": \"50, -200\",\n",
    "        \"April\": \"1428, 7, -30\",\n",
    "        \"May\": \"1428, 7, -31\",\n",
    "        \"June\": \"1428, 7, -32\",\n",
    "        \"July\": \"1428, 7, -33\",\n",
    "        \"August\": \"1428, 7, -34\",\n",
    "        \"September\": \"1428, 7, -35\",\n",
    "        \"October\": \"1428, 7, -36\",\n",
    "        \"November\": \"1428, 7, -37\",\n",
    "        \"December\": \"1428, 7, -38\",\n",
    "        \"January\": \"1428, 7, -39\",\n",
    "        \"February\": \"1428, 7, -40\",\n",
    "        \"March\": \"1428, 7, -41\",\n",
    "        \"Q1\": \"20937, 55\",\n",
    "        \"Q2\": \"20937, 56\",\n",
    "        \"Q3\": \"20937, 57\",\n",
    "        \"Q4\": \"20937, 58\",\n",
    "        \"Financial_Year\": \"2019/20\",\n",
    "    },\n",
    "}"
   ]
  },
  {
   "cell_type": "code",
   "execution_count": null,
   "id": "123e0686",
   "metadata": {
    "papermill": {
     "duration": null,
     "end_time": null,
     "exception": null,
     "start_time": null,
     "status": "pending"
    },
    "tags": []
   },
   "outputs": [],
   "source": [
    "metadata = pd.DataFrame(metadata_dict)\n",
    "\n",
    "intended_map_types = (\n",
    "    metadata[\"Data type\"]\n",
    "    .map(\n",
    "        {\n",
    "            \"number\": np.float32,\n",
    "            \"text\": \"object\",\n",
    "        }\n",
    "    )\n",
    "    .to_dict()\n",
    ")\n",
    "\n",
    "# data is super dirty. so fix_map_types\n",
    "map_types_temp = {k: \"object\" for k, v in intended_map_types.items()}\n",
    "\n",
    "# drop empty columns\n",
    "to_drop = metadata[metadata[\"Sample attributes\"].isna()].index.to_list()\n",
    "\n",
    "columns_to_keep = set(map_types_temp.keys()) - set(to_drop)\n",
    "csvs_to_read = csvs_to_save"
   ]
  },
  {
   "cell_type": "code",
   "execution_count": null,
   "id": "760f6be0",
   "metadata": {
    "papermill": {
     "duration": null,
     "end_time": null,
     "exception": null,
     "start_time": null,
     "status": "pending"
    },
    "tags": []
   },
   "outputs": [],
   "source": [
    "df = pd.concat(\n",
    "    [\n",
    "        read_dirty_treasury_csv(filepath, columns_to_keep, map_types_temp)\n",
    "        for filepath in tqdm(csvs_to_read)\n",
    "    ],\n",
    "    axis=0,\n",
    "    ignore_index=True,\n",
    ")\n",
    "\n",
    "original_col_order = list(df.columns)"
   ]
  },
  {
   "cell_type": "code",
   "execution_count": null,
   "id": "7b1c9775-c09f-43f9-a6f4-4530c29bdbda",
   "metadata": {
    "papermill": {
     "duration": null,
     "end_time": null,
     "exception": null,
     "start_time": null,
     "status": "pending"
    },
    "tags": []
   },
   "outputs": [],
   "source": [
    "%%time\n",
    "\n",
    "# convert num cols to nums, coercing errors\n",
    "intended_num_cols = {k for k, v in intended_map_types.items() if v == np.float32}\n",
    "\n",
    "# remove spaces from num cols\n",
    "numeric_cols = df.loc[:, intended_num_cols].apply(\n",
    "    lambda col: col.str.strip(\" \"), axis=0\n",
    ")\n",
    "\n",
    "# coerce to numeric\n",
    "numeric_cols = numeric_cols.apply(\n",
    "    lambda col: pd.to_numeric(col, errors=\"coerce\", downcast=\"float\"), axis=0\n",
    ")\n",
    "\n",
    "# bring back to main dataframe\n",
    "df = df.drop(columns=intended_num_cols)\n",
    "df = pd.concat([df, numeric_cols], axis=1)"
   ]
  },
  {
   "cell_type": "code",
   "execution_count": null,
   "id": "481b6da5-0b57-49d6-ad9b-ef73ace31271",
   "metadata": {
    "papermill": {
     "duration": null,
     "end_time": null,
     "exception": null,
     "start_time": null,
     "status": "pending"
    },
    "tags": []
   },
   "outputs": [],
   "source": [
    "# reorder columns to original order\n",
    "df = df.loc[:, original_col_order]"
   ]
  },
  {
   "cell_type": "code",
   "execution_count": null,
   "id": "7a8d1e5a",
   "metadata": {
    "papermill": {
     "duration": null,
     "end_time": null,
     "exception": null,
     "start_time": null,
     "status": "pending"
    },
    "tags": []
   },
   "outputs": [],
   "source": [
    "%%time\n",
    "\n",
    "# https://github.com/deepak7376/downcast/blob/master/src/downcast.py\n",
    "def reduce(df):\n",
    "    cols = df.dtypes.index.tolist()\n",
    "    types = df.dtypes.values.tolist()\n",
    "    for i, t in enumerate(types):\n",
    "        if \"int\" in str(t):\n",
    "            if (\n",
    "                df[cols[i]].min() > np.iinfo(np.int8).min\n",
    "                and df[cols[i]].max() < np.iinfo(np.int8).max\n",
    "            ):\n",
    "                df[cols[i]] = df[cols[i]].astype(np.int8)\n",
    "            elif (\n",
    "                df[cols[i]].min() > np.iinfo(np.int16).min\n",
    "                and df[cols[i]].max() < np.iinfo(np.int16).max\n",
    "            ):\n",
    "                df[cols[i]] = df[cols[i]].astype(np.int16)\n",
    "            elif (\n",
    "                df[cols[i]].min() > np.iinfo(np.int32).min\n",
    "                and df[cols[i]].max() < np.iinfo(np.int32).max\n",
    "            ):\n",
    "                df[cols[i]] = df[cols[i]].astype(np.int32)\n",
    "            else:\n",
    "                df[cols[i]] = df[cols[i]].astype(np.int64)\n",
    "        elif \"float\" in str(t):\n",
    "            if (\n",
    "                df[cols[i]].min() > np.finfo(np.float16).min\n",
    "                and df[cols[i]].max() < np.finfo(np.float16).max\n",
    "            ):\n",
    "                df[cols[i]] = df[cols[i]].astype(np.float16)\n",
    "            elif (\n",
    "                df[cols[i]].min() > np.finfo(np.float32).min\n",
    "                and df[cols[i]].max() < np.finfo(np.float32).max\n",
    "            ):\n",
    "                df[cols[i]] = df[cols[i]].astype(np.float32)\n",
    "            else:\n",
    "                df[cols[i]] = df[cols[i]].astype(np.float64)\n",
    "        elif t == np.object:\n",
    "            if cols[i] == \"date\":\n",
    "                df[cols[i]] = pd.to_datetime(df[cols[i]], format=\"%Y-%m-%d\")\n",
    "            else:\n",
    "                df[cols[i]] = df[cols[i]].astype(\"category\")\n",
    "    return df\n",
    "\n",
    "\n",
    "df = reduce(df)"
   ]
  },
  {
   "cell_type": "code",
   "execution_count": null,
   "id": "525fbb87",
   "metadata": {
    "papermill": {
     "duration": null,
     "end_time": null,
     "exception": null,
     "start_time": null,
     "status": "pending"
    },
    "tags": []
   },
   "outputs": [],
   "source": [
    "df.info(memory_usage=\"deep\")"
   ]
  },
  {
   "cell_type": "code",
   "execution_count": null,
   "id": "4ced4d9a",
   "metadata": {
    "papermill": {
     "duration": null,
     "end_time": null,
     "exception": null,
     "start_time": null,
     "status": "pending"
    },
    "tags": []
   },
   "outputs": [],
   "source": [
    "missings = df.isna().mean(axis=0).sort_values()\n",
    "missings"
   ]
  },
  {
   "cell_type": "code",
   "execution_count": null,
   "id": "cd7754e3",
   "metadata": {
    "papermill": {
     "duration": null,
     "end_time": null,
     "exception": null,
     "start_time": null,
     "status": "pending"
    },
    "tags": []
   },
   "outputs": [],
   "source": [
    "metadata.T"
   ]
  },
  {
   "cell_type": "markdown",
   "id": "6cc85213-20eb-4d04-9d7d-8aafbe890903",
   "metadata": {
    "papermill": {
     "duration": null,
     "end_time": null,
     "exception": null,
     "start_time": null,
     "status": "pending"
    },
    "tags": []
   },
   "source": [
    "## Export to SQLite Database"
   ]
  },
  {
   "cell_type": "code",
   "execution_count": null,
   "id": "b869ec33-ae37-4362-a14e-77a11133a28f",
   "metadata": {
    "papermill": {
     "duration": null,
     "end_time": null,
     "exception": null,
     "start_time": null,
     "status": "pending"
    },
    "tags": []
   },
   "outputs": [],
   "source": [
    "DB_PATH = DATA_PATH/ \"processed/SAGovBudget.sqlite\"\n",
    "DB_PATH.unlink(missing_ok=True)"
   ]
  },
  {
   "cell_type": "code",
   "execution_count": null,
   "id": "5d58ce07",
   "metadata": {
    "papermill": {
     "duration": null,
     "end_time": null,
     "exception": null,
     "start_time": null,
     "status": "pending"
    },
    "tags": []
   },
   "outputs": [],
   "source": [
    "# clean column names before exporting\n",
    "# ie convert spaces to underscores, remove pounds, convert to upperscore\n",
    "\n",
    "def clean_col_header(header: str)-> str:\n",
    "    \n",
    "    # remove pounds\n",
    "    header = header.replace(\"#\", \"\")\n",
    "    # remove unseen empty space\n",
    "    header = header.strip()\n",
    "    # convert spaces to underscores\n",
    "    header = header.replace(\" \", \"_\")\n",
    "    # to upperscore\n",
    "    header = header.upper()\n",
    "    return header\n",
    "\n",
    "df = df.rename(columns = clean_col_header)\n",
    "metadata = metadata.rename(columns = clean_col_header).rename(index = clean_col_header)"
   ]
  },
  {
   "cell_type": "code",
   "execution_count": null,
   "id": "8fd31fbf-3289-4f8a-9ad7-d5e9e6dca29f",
   "metadata": {
    "papermill": {
     "duration": null,
     "end_time": null,
     "exception": null,
     "start_time": null,
     "status": "pending"
    },
    "tags": []
   },
   "outputs": [],
   "source": [
    "%%time\n",
    "\n",
    "conn = sqlite3.connect(DB_PATH)\n",
    "\n",
    "# write dataframe to sqlitedb\n",
    "df.to_sql(\n",
    "    name=\"National\", con=conn, if_exists=\"replace\", index=False, chunksize=100_000\n",
    ")\n",
    "metadata.to_sql(name=\"Metadata\", con=conn, if_exists=\"replace\", index=False)\n",
    "\n",
    "conn.close()"
   ]
  }
 ],
 "metadata": {
  "kernelspec": {
   "display_name": "Python 3 (ipykernel)",
   "language": "python",
   "name": "python3"
  },
  "language_info": {
   "codemirror_mode": {
    "name": "ipython",
    "version": 3
   },
   "file_extension": ".py",
   "mimetype": "text/x-python",
   "name": "python",
   "nbconvert_exporter": "python",
   "pygments_lexer": "ipython3",
   "version": "3.9.7"
  },
  "papermill": {
   "default_parameters": {},
   "duration": 15.577959,
   "end_time": "2021-09-21T19:38:28.957028",
   "environment_variables": {},
   "exception": true,
   "input_path": "/home/jovyan/work/notebooks/CollateData.ipynb",
   "output_path": "/home/jovyan/work/notebooks/CollateData-OUTPUT.ipynb",
   "parameters": {},
   "start_time": "2021-09-21T19:38:13.379069",
   "version": "2.3.3"
  }
 },
 "nbformat": 4,
 "nbformat_minor": 5
}
