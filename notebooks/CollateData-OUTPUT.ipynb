{
 "cells": [
  {
   "cell_type": "markdown",
   "id": "2bfee30e-f479-42d3-a5c2-dbc2cc95f21b",
   "metadata": {
    "papermill": {
     "duration": null,
     "end_time": null,
     "exception": null,
     "start_time": null,
     "status": "pending"
    },
    "tags": []
   },
   "source": [
    "# Collate, Clean data and publish as SQLite Database"
   ]
  },
  {
   "cell_type": "markdown",
   "id": "31af8553-01b0-427b-8597-c8722f9675db",
   "metadata": {
    "papermill": {
     "duration": null,
     "end_time": null,
     "exception": null,
     "start_time": null,
     "status": "pending"
    },
    "tags": []
   },
   "source": [
    "## Notes:\n",
    "\n",
    "1. Police data presented at econclass level, because the departments does not use main government accounting system (BAS). Integration has a 6 weeks lag.\n",
    "2. Defence data presented at econclass level, because the department does not use main government accounting system (BAS). Integration has a 6 weeks lag and only at the item level.\n",
    "3. Parliament excluded from dataset because the department does not use the main government accounting system (BAS).\n",
    "4. SCoA report tables separate Direct Charges from Appropriated Fund spending, and the same approach has been used here by filtering on FUND_LEVEL_2\n",
    "5. Debt Service Costs and National Revenue Fund Payments (under National Treasury) are included at econclass level since these payments are not made through the main government accounting system (BAS).\n",
    "\n",
    "## TODO:\n",
    "\n",
    " - [ ] Download files directly from government website in notebook\n",
    " - [ ] Tests, both in ETL process as well as main repo\n",
    " - [ ] Implement logging"
   ]
  },
  {
   "cell_type": "markdown",
   "id": "8f948a5d",
   "metadata": {
    "papermill": {
     "duration": null,
     "end_time": null,
     "exception": null,
     "start_time": null,
     "status": "pending"
    },
    "tags": []
   },
   "source": [
    "<p style=\"color:rgb(255,0,0);\">Discrepancies:</p>\n",
    "\n",
    "<ol>\n",
    "    <li>2020-21-Q3 National.csv link doesn't direct to right direction</li>\n",
    "</ol>"
   ]
  },
  {
   "cell_type": "markdown",
   "id": "4d2fe30f-ea48-4035-9662-661eaad21667",
   "metadata": {
    "papermill": {
     "duration": null,
     "end_time": null,
     "exception": null,
     "start_time": null,
     "status": "pending"
    },
    "tags": []
   },
   "source": [
    "## Imports"
   ]
  },
  {
   "cell_type": "code",
   "execution_count": null,
   "id": "37ff43e0",
   "metadata": {
    "papermill": {
     "duration": null,
     "end_time": null,
     "exception": null,
     "start_time": null,
     "status": "pending"
    },
    "tags": []
   },
   "outputs": [],
   "source": [
    "import os\n",
    "import pathlib\n",
    "import sqlite3\n",
    "import urllib\n",
    "import warnings\n",
    "from zipfile import ZipFile\n",
    "from urllib.parse import urljoin\n",
    "\n",
    "import requests\n",
    "import numpy as np\n",
    "import pandas as pd\n",
    "from rarfile import RarFile\n",
    "from tqdm import tqdm\n",
    "from io import BytesIO\n",
    "\n",
    "warnings.simplefilter(action=\"ignore\", category=FutureWarning)\n",
    "pd.set_option(\"display.max_columns\", None)"
   ]
  },
  {
   "cell_type": "markdown",
   "id": "8e07b02d-f57d-47f3-b8e5-46b642f06303",
   "metadata": {
    "papermill": {
     "duration": null,
     "end_time": null,
     "exception": null,
     "start_time": null,
     "status": "pending"
    },
    "tags": []
   },
   "source": [
    "## Utility Functions"
   ]
  },
  {
   "cell_type": "code",
   "execution_count": null,
   "id": "e44b4de6-347e-48c1-b20c-01f807af5c11",
   "metadata": {
    "papermill": {
     "duration": null,
     "end_time": null,
     "exception": null,
     "start_time": null,
     "status": "pending"
    },
    "tags": []
   },
   "outputs": [],
   "source": [
    "def read_dirty_treasury_csv(\n",
    "    path: pathlib.PurePath, cols_to_use: list, dtypes: dict\n",
    ") -> pd.DataFrame:\n",
    "\n",
    "    df = pd.read_csv(\n",
    "        path,\n",
    "        encoding=\"Windows-1252\",\n",
    "        sep=\",\",\n",
    "        usecols=cols_to_use,\n",
    "        skip_blank_lines=True,\n",
    "        error_bad_lines=False,\n",
    "        warn_bad_lines=False,  # Need to deal with these eventually\n",
    "        low_memory=False,\n",
    "        dtype=dtypes,\n",
    "        thousands=\" \",\n",
    "        na_values=\"NaN\",\n",
    "        skipinitialspace=True,\n",
    "    )\n",
    "\n",
    "    return df"
   ]
  },
  {
   "cell_type": "code",
   "execution_count": null,
   "id": "77538316-eedb-4301-8806-7f1c9c098ee0",
   "metadata": {
    "papermill": {
     "duration": null,
     "end_time": null,
     "exception": null,
     "start_time": null,
     "status": "pending"
    },
    "tags": []
   },
   "outputs": [],
   "source": [
    "TREASURY_BASE_URL = \"http://www.treasury.gov.za/statistics/Quarterly%20spending%20data/\"\n",
    "DATA_PATH = pathlib.Path(\"/home/jovyan/work/data\")\n",
    "FILE_ENDPOINTS = {\n",
    "    \"2019_Q1\": \"2019/SCOA_for_web.rar\",\n",
    "    \"2019_Q2\": \"2019/2019-20-Q2%20National.rar\",\n",
    "    \"2019_Q3\": \"2019/2019-20-Q3%20National.rar\",\n",
    "    \"2019_Q4\": \"2019/2019-20-Q4%20National.rar\",\n",
    "    \"2020_Q1\": \"2020/2020-21-Q1%20National.rar\",\n",
    "    \"2020_Q2\": \"2020/2020-21-Q2%20National.zip\",\n",
    "    # \"2020_Q3\":\"2020/2020-21-Q3%20National.zip\", # This link is broken on website\n",
    "    \"2020_Q4\": \"2020/2020-21-Q4%20National.zip\",\n",
    "    \"2021_Q1\": \"2021/2021-22-Q1%20National.zip\",\n",
    "}\n",
    "FILE_ENDPOINTS_FULL = {\n",
    "    k: urljoin(TREASURY_BASE_URL, v) for k, v in FILE_ENDPOINTS.items()\n",
    "}\n",
    "\n",
    "# function to download file from treasury's website\n",
    "def download_file(url: str, path_to_save: pathlib.PurePath) -> None:\n",
    "    \"\"\"\n",
    "    Adapted from\n",
    "    https://stackoverflow.com/questions/6861323/download-and-unzip-file-with-python\n",
    "    \"\"\"\n",
    "\n",
    "    suffix = pathlib.Path(url).suffix\n",
    "    if suffix == \".rar\":\n",
    "\n",
    "        print(f\"Downloading {url}...\", end=\"\")\n",
    "\n",
    "        response = requests.get(url).content\n",
    "\n",
    "        print(\"DONE!\")\n",
    "\n",
    "        print(f\"Parsing downloaded {pathlib.Path(url).name}\")\n",
    "\n",
    "        bytes_in_memory = BytesIO(response)\n",
    "        rar_file_object = RarFile(bytes_in_memory, \"r\")\n",
    "        \n",
    "        # open csv file\n",
    "        csv_file = rar_file_object.open(csv_file_name := rar_file_object.namelist()[0])\n",
    "        print(csv_file_name)\n",
    "        csv_content_bytes = csv_file.read()\n",
    "\n",
    "        print(f\"{csv_file_name} finished downloading. Saving as {str(path_to_save)}\")\n",
    "\n",
    "        with open(path_to_save, \"wb\") as fh:\n",
    "            fh.write(csv_content_bytes)\n",
    "            \n",
    "        # cleanup\n",
    "        bytes_in_memory.close()\n",
    "        rar_file_object.close()\n",
    "\n",
    "    elif suffix == \".zip\":\n",
    "\n",
    "        print(f\"Downloading {url}...\", end=\"\")\n",
    "\n",
    "        filehandle, _ = urllib.request.urlretrieve(url)\n",
    "\n",
    "        print(\"DONE!\")\n",
    "\n",
    "        print(f\"Parsing downloaded {url}\")\n",
    "\n",
    "        zip_file_object = zipfile.ZipFile(filehandle, \"r\")\n",
    "        csv_file_name = zip_file_object.namelist()[0]\n",
    "        csv_file = zip_file_object.open(csv_file_name)\n",
    "        csv_content = csv_file.read()\n",
    "\n",
    "        print(f\"{csv_file_name} finished downloading. Saving as {str(path_to_save)}\")\n",
    "\n",
    "        with open(path_to_save, \"wb\") as fh:\n",
    "            fh.write(csv_content)\n",
    "            \n",
    "    else:\n",
    "        print(f\"Couldn't download and parse {url}!\")"
   ]
  },
  {
   "cell_type": "code",
   "execution_count": null,
   "id": "f0579927-e2cb-49fe-8978-288f69942b2a",
   "metadata": {
    "papermill": {
     "duration": null,
     "end_time": null,
     "exception": null,
     "start_time": null,
     "status": "pending"
    },
    "tags": []
   },
   "outputs": [],
   "source": [
    "csvs_to_save = [\n",
    "    DATA_PATH / \"{}.csv\".format(f) for f in sorted(FILE_ENDPOINTS_FULL.keys())\n",
    "]\n",
    "\n",
    "for csv_to_save in csvs_to_save:\n",
    "    timeperiod = csv_to_save.name.strip(\".csv\")\n",
    "\n",
    "    download_file(FILE_ENDPOINTS_FULL[timeperiod], csv_to_save)"
   ]
  },
  {
   "cell_type": "code",
   "execution_count": null,
   "id": "8fd867d3-b85d-45fa-94fb-e696e5093da7",
   "metadata": {
    "papermill": {
     "duration": null,
     "end_time": null,
     "exception": null,
     "start_time": null,
     "status": "pending"
    },
    "tags": []
   },
   "outputs": [],
   "source": [
    "pathlib.Path(\n",
    "    \"http://www.treasury.gov.za/statistics/Quarterly%20spending%20data/2019/SCOA_for_web.rar\"\n",
    ").suffix"
   ]
  },
  {
   "cell_type": "code",
   "execution_count": null,
   "id": "be2601da",
   "metadata": {
    "papermill": {
     "duration": null,
     "end_time": null,
     "exception": null,
     "start_time": null,
     "status": "pending"
    },
    "tags": []
   },
   "outputs": [],
   "source": [
    "metadata_dict = {\n",
    "    \"Description\": {\n",
    "        \"Vote No#\": \"Vote number of the department\",\n",
    "        \"Department\": \"Department name\",\n",
    "        \"Programme No#\": \"Programme number as specified in the ENE\",\n",
    "        \"Programme\": \"Programme name within the department\",\n",
    "        \"Subprogramme No#\": \"Subprogramme number as specified in the ENE\",\n",
    "        \"Subprogramme\": \"subprogramme name within the parent programme\",\n",
    "        \"econClass_L1\": \"economic classification of spending level 1\",\n",
    "        \"econClass_L2\": \"economic classification of spending level 2\",\n",
    "        \"econClass_L3\": \"economic classification of spending level 3\",\n",
    "        \"econClass_L4\": \"economic classification of spending level 4\",\n",
    "        \"econClass_L5\": \"economic classification of spending level 5\",\n",
    "        \"IYM_econLowestLevel\": \"lowest level economic classification of spending as submitted in the IYM to the Treasury\",\n",
    "        \"Item_Lowest_Level\": \"SCoA Item segment lowest level\",\n",
    "        \"Assets_Level_1\": \"SCoA Asset segment level 1\",\n",
    "        \"Assets_Level_2\": \"SCoA Asset segment level 2\",\n",
    "        \"Assets_Level_3\": \"SCoA Asset segment level 3\",\n",
    "        \"Assets_Level_4\": \"SCoA Asset segment level 4\",\n",
    "        \"Assets_Level_5\": \"SCoA Asset segment level 5\",\n",
    "        \"Assets_Level_6\": \"SCoA Asset segment level 6\",\n",
    "        \"Assets_Lowest_Level\": \"SCoA Asset segment lowest level\",\n",
    "        \"Project_Level_1\": \"SCoA Project segment level 1\",\n",
    "        \"Project_Level_2\": \"SCoA Project segment level 2\",\n",
    "        \"Project_Level_3\": \"SCoA Project segment level 3\",\n",
    "        \"Project_Level_4\": \"SCoA Project segment level 4\",\n",
    "        \"Project_Level_5\": \"SCoA Project segment level 5\",\n",
    "        \"Project_Level_6\": \"SCoA Project segment level 6\",\n",
    "        \"Project_Level_7\": \"SCoA Project segment level 7\",\n",
    "        \"Project_Level_8\": \"SCoA Project segment level 8\",\n",
    "        \"Project_Level_9\": \"SCoA Project segment level 9\",\n",
    "        \"Project_Level_10\": \"SCoA Project segment level 10\",\n",
    "        \"Project_Level_11\": \"SCoA Project segment level 11\",\n",
    "        \"Project_Lowest_Level\": \"SCoA Project segment lowest level\",\n",
    "        \"Responsibility_Level_2\": \"SCoA Responsibility segment level 2\",\n",
    "        \"Responsibility_Level_3\": \"SCoA Responsibility segment level 3\",\n",
    "        \"Responsibility_Level_4\": \"SCoA Responsibility segment level 4\",\n",
    "        \"Responsibility_Level_5\": \"SCoA Responsibility segment level 5\",\n",
    "        \"Responsibility_Level_6\": \"SCoA Responsibility segment level 6\",\n",
    "        \"Responsibility_Level_7\": \"SCoA Responsibility segment level 7\",\n",
    "        \"Responsibility_Level_8\": \"SCoA Responsibility segment level 8\",\n",
    "        \"Responsibility_Level_9\": \"SCoA Responsibility segment level 9\",\n",
    "        \"Responsibility_Level_10\": \"SCoA Responsibility segment level 10\",\n",
    "        \"Responsibility_Level_11\": \"SCoA Responsibility segment level 11\",\n",
    "        \"Responsibility_Level_12\": \"SCoA Responsibility segment level 12\",\n",
    "        \"Responsibility_Level_13\": \"SCoA Responsibility segment level 13\",\n",
    "        \"Responsibility_Level_14\": \"SCoA Responsibility segment level 14\",\n",
    "        \"Responsibility_Level_15\": \"SCoA Responsibility segment level 15\",\n",
    "        \"Responsibility_Lowest_Level\": \"SCoA Responsibility segment lowest level\",\n",
    "        \"Fund_Level_1\": \"SCoA Fund segment level 1\",\n",
    "        \"Fund_Level_2\": \"SCoA Fund segment level 2\",\n",
    "        \"Fund_Level_3\": \"SCoA Fund segment level 3\",\n",
    "        \"Fund_Level_4\": \"SCoA Fund segment level 4\",\n",
    "        \"Fund_Level_5\": \"SCoA Fund segment level 5\",\n",
    "        \"Fund_Level_6\": \"SCoA Fund segment level 6\",\n",
    "        \"Fund_Level_7\": \"SCoA Fund segment level 7\",\n",
    "        \"Fund_Level_8\": \"SCoA Fund segment level 8\",\n",
    "        \"Fund_Lowest_Level\": \"SCoA Fund segment lowest level\",\n",
    "        \"Infrastructure_Level_1\": \"SCoA Infrastructure segment level 1\",\n",
    "        \"Infrastructure_Level_2\": \"SCoA Infrastructure segment level 2\",\n",
    "        \"Infrastructure_Level_3\": \"SCoA Infrastructure segment level 3\",\n",
    "        \"Infrastructure_Level_4\": \"SCoA Infrastructure segment level 4\",\n",
    "        \"Infrastructure_Level_5\": \"SCoA Infrastructure segment level 5\",\n",
    "        \"Infrastructure_Level_6\": \"SCoA Infrastructure segment level 6\",\n",
    "        \"Infrastructure_Lowest_Level\": \"SCoA Infrastructure segment lowest level\",\n",
    "        \"Item_Level_1\": \"SCoA Item segment level 1\",\n",
    "        \"Item_Level_2\": \"SCoA Item segment level 2\",\n",
    "        \"Item_Level_3\": \"SCoA Item segment level 3\",\n",
    "        \"Item_Level_4\": \"SCoA Item segment level 4\",\n",
    "        \"Item_Level_5\": \"SCoA Item segment level 5\",\n",
    "        \"Item_Level_6\": \"SCoA Item segment level 6\",\n",
    "        \"Item_Level_7\": \"SCoA Item segment level 7\",\n",
    "        \"Item_Level_8\": \"SCoA Item segment level 8\",\n",
    "        \"Regional_ID_Level_1\": \"SCoA Regional segment level 1\",\n",
    "        \"Regional_ID_Level_2\": \"SCoA Regional segment level 2\",\n",
    "        \"Regional_ID_Level_3\": \"SCoA Regional segment level 3\",\n",
    "        \"Regional_ID_Level_4\": \"SCoA Regional segment level 4\",\n",
    "        \"Regional_ID_Level_5\": \"SCoA Regional segment level 5\",\n",
    "        \"Regional_ID_Level_6\": \"SCoA Regional segment level 6\",\n",
    "        \"Regional_ID_Level_7\": \"SCoA Regional segment level 7\",\n",
    "        \"Regional_ID_Level_8\": \"SCoA Regional segment level 8\",\n",
    "        \"Regional_ID_Lowest_Level\": \"SCoA Regional segment lowest level\",\n",
    "        \"Budget\": \"Budgeted amount\",\n",
    "        \"AdjustmentBudget\": \"Adjustments to the original budget\",\n",
    "        \"April\": \"April expenditure\",\n",
    "        \"May\": \"May expenditure\",\n",
    "        \"June\": \"June expenditure\",\n",
    "        \"July\": \"July expenditure\",\n",
    "        \"August\": \"August expenditure\",\n",
    "        \"September\": \"September expenditure\",\n",
    "        \"October\": \"October expenditure\",\n",
    "        \"November\": \"November expenditure\",\n",
    "        \"December\": \"December expenditure\",\n",
    "        \"January\": \"January expenditure\",\n",
    "        \"February\": \"February expenditure\",\n",
    "        \"March\": \"March expenditure\",\n",
    "        \"Q1\": \"Quarter one expenditure (April + May + June)\",\n",
    "        \"Q2\": \"Quarter two expenditure (July + August + Spetember)\",\n",
    "        \"Q3\": \"Quarter one expenditure (October + November + December)\",\n",
    "        \"Q4\": \"Quarter one expenditure (January + February + March)\",\n",
    "        \"Financial_Year\": \"Financial year ( period April - March)\",\n",
    "    },\n",
    "    \"Data type\": {\n",
    "        \"Vote No#\": \"number\",\n",
    "        \"Department\": \"text\",\n",
    "        \"Programme No#\": \"number\",\n",
    "        \"Programme\": \"text\",\n",
    "        \"Subprogramme No#\": \"text\",\n",
    "        \"Subprogramme\": \"text\",\n",
    "        \"econClass_L1\": \"text\",\n",
    "        \"econClass_L2\": \"text\",\n",
    "        \"econClass_L3\": \"text\",\n",
    "        \"econClass_L4\": \"text\",\n",
    "        \"econClass_L5\": \"text\",\n",
    "        \"IYM_econLowestLevel\": \"text\",\n",
    "        \"Item_Lowest_Level\": \"text\",\n",
    "        \"Assets_Level_1\": \"text\",\n",
    "        \"Assets_Level_2\": \"text\",\n",
    "        \"Assets_Level_3\": \"text\",\n",
    "        \"Assets_Level_4\": \"text\",\n",
    "        \"Assets_Level_5\": \"text\",\n",
    "        \"Assets_Level_6\": \"text\",\n",
    "        \"Assets_Lowest_Level\": \"text\",\n",
    "        \"Project_Level_1\": \"text\",\n",
    "        \"Project_Level_2\": \"text\",\n",
    "        \"Project_Level_3\": \"text\",\n",
    "        \"Project_Level_4\": \"text\",\n",
    "        \"Project_Level_5\": \"text\",\n",
    "        \"Project_Level_6\": \"text\",\n",
    "        \"Project_Level_7\": \"text\",\n",
    "        \"Project_Level_8\": \"text\",\n",
    "        \"Project_Level_9\": \"text\",\n",
    "        \"Project_Level_10\": \"text\",\n",
    "        \"Project_Level_11\": \"text\",\n",
    "        \"Project_Lowest_Level\": \"text\",\n",
    "        \"Responsibility_Level_2\": \"text\",\n",
    "        \"Responsibility_Level_3\": \"text\",\n",
    "        \"Responsibility_Level_4\": \"text\",\n",
    "        \"Responsibility_Level_5\": \"text\",\n",
    "        \"Responsibility_Level_6\": \"text\",\n",
    "        \"Responsibility_Level_7\": \"text\",\n",
    "        \"Responsibility_Level_8\": \"text\",\n",
    "        \"Responsibility_Level_9\": \"text\",\n",
    "        \"Responsibility_Level_10\": \"text\",\n",
    "        \"Responsibility_Level_11\": \"text\",\n",
    "        \"Responsibility_Level_12\": \"text\",\n",
    "        \"Responsibility_Level_13\": \"text\",\n",
    "        \"Responsibility_Level_14\": \"text\",\n",
    "        \"Responsibility_Level_15\": \"text\",\n",
    "        \"Responsibility_Lowest_Level\": \"text\",\n",
    "        \"Fund_Level_1\": \"text\",\n",
    "        \"Fund_Level_2\": \"text\",\n",
    "        \"Fund_Level_3\": \"text\",\n",
    "        \"Fund_Level_4\": \"text\",\n",
    "        \"Fund_Level_5\": \"text\",\n",
    "        \"Fund_Level_6\": \"text\",\n",
    "        \"Fund_Level_7\": \"text\",\n",
    "        \"Fund_Level_8\": \"text\",\n",
    "        \"Fund_Lowest_Level\": \"text\",\n",
    "        \"Infrastructure_Level_1\": \"text\",\n",
    "        \"Infrastructure_Level_2\": \"text\",\n",
    "        \"Infrastructure_Level_3\": \"text\",\n",
    "        \"Infrastructure_Level_4\": \"text\",\n",
    "        \"Infrastructure_Level_5\": \"text\",\n",
    "        \"Infrastructure_Level_6\": \"text\",\n",
    "        \"Infrastructure_Lowest_Level\": \"text\",\n",
    "        \"Item_Level_1\": \"text\",\n",
    "        \"Item_Level_2\": \"text\",\n",
    "        \"Item_Level_3\": \"text\",\n",
    "        \"Item_Level_4\": \"text\",\n",
    "        \"Item_Level_5\": \"text\",\n",
    "        \"Item_Level_6\": \"text\",\n",
    "        \"Item_Level_7\": \"text\",\n",
    "        \"Item_Level_8\": \"text\",\n",
    "        \"Regional_ID_Level_1\": \"text\",\n",
    "        \"Regional_ID_Level_2\": \"text\",\n",
    "        \"Regional_ID_Level_3\": \"text\",\n",
    "        \"Regional_ID_Level_4\": \"text\",\n",
    "        \"Regional_ID_Level_5\": \"text\",\n",
    "        \"Regional_ID_Level_6\": \"text\",\n",
    "        \"Regional_ID_Level_7\": \"text\",\n",
    "        \"Regional_ID_Level_8\": \"text\",\n",
    "        \"Regional_ID_Lowest_Level\": \"text\",\n",
    "        \"Budget\": \"number\",\n",
    "        \"AdjustmentBudget\": \"number\",\n",
    "        \"April\": \"number\",\n",
    "        \"May\": \"number\",\n",
    "        \"June\": \"number\",\n",
    "        \"July\": \"number\",\n",
    "        \"August\": \"number\",\n",
    "        \"September\": \"number\",\n",
    "        \"October\": \"number\",\n",
    "        \"November\": \"number\",\n",
    "        \"December\": \"number\",\n",
    "        \"January\": \"number\",\n",
    "        \"February\": \"number\",\n",
    "        \"March\": \"number\",\n",
    "        \"Q1\": \"number\",\n",
    "        \"Q2\": \"number\",\n",
    "        \"Q3\": \"number\",\n",
    "        \"Q4\": \"number\",\n",
    "        \"Financial_Year\": \"text\",\n",
    "    },\n",
    "    \"Sample attributes\": {\n",
    "        \"Vote No#\": \"1 - 40\",\n",
    "        \"Department\": \"The Presidency, Home Affairs\",\n",
    "        \"Programme No#\": \"1 - 10\",\n",
    "        \"Programme\": \"Administration, Citizen Affairs\",\n",
    "        \"Subprogramme No#\": \"1 - 15\",\n",
    "        \"Subprogramme\": \"Ministry, Service delivery to Provinces\",\n",
    "        \"econClass_L1\": \"Payments, Receipts\",\n",
    "        \"econClass_L2\": \"Current payments, Payments for capital assets\",\n",
    "        \"econClass_L3\": \"Goods and services, Buildings and other structures\",\n",
    "        \"econClass_L4\": \"Consultants: Business and advisory services, Inventory: Fuel, oil and gas\",\n",
    "        \"econClass_L5\": \"Subsidies on products and production (pe)\",\n",
    "        \"IYM_econLowestLevel\": \"Administrative fees, Advertising\",\n",
    "        \"Item_Lowest_Level\": \"A&S/O/S:LEGAL SERVICE, \",\n",
    "        \"Assets_Level_1\": np.nan,\n",
    "        \"Assets_Level_2\": np.nan,\n",
    "        \"Assets_Level_3\": np.nan,\n",
    "        \"Assets_Level_4\": np.nan,\n",
    "        \"Assets_Level_5\": np.nan,\n",
    "        \"Assets_Level_6\": np.nan,\n",
    "        \"Assets_Lowest_Level\": np.nan,\n",
    "        \"Project_Level_1\": np.nan,\n",
    "        \"Project_Level_2\": np.nan,\n",
    "        \"Project_Level_3\": np.nan,\n",
    "        \"Project_Level_4\": np.nan,\n",
    "        \"Project_Level_5\": np.nan,\n",
    "        \"Project_Level_6\": np.nan,\n",
    "        \"Project_Level_7\": np.nan,\n",
    "        \"Project_Level_8\": np.nan,\n",
    "        \"Project_Level_9\": np.nan,\n",
    "        \"Project_Level_10\": np.nan,\n",
    "        \"Project_Level_11\": np.nan,\n",
    "        \"Project_Lowest_Level\": np.nan,\n",
    "        \"Responsibility_Level_2\": np.nan,\n",
    "        \"Responsibility_Level_3\": np.nan,\n",
    "        \"Responsibility_Level_4\": np.nan,\n",
    "        \"Responsibility_Level_5\": np.nan,\n",
    "        \"Responsibility_Level_6\": np.nan,\n",
    "        \"Responsibility_Level_7\": np.nan,\n",
    "        \"Responsibility_Level_8\": np.nan,\n",
    "        \"Responsibility_Level_9\": np.nan,\n",
    "        \"Responsibility_Level_10\": np.nan,\n",
    "        \"Responsibility_Level_11\": np.nan,\n",
    "        \"Responsibility_Level_12\": np.nan,\n",
    "        \"Responsibility_Level_13\": np.nan,\n",
    "        \"Responsibility_Level_14\": np.nan,\n",
    "        \"Responsibility_Level_15\": np.nan,\n",
    "        \"Responsibility_Lowest_Level\": np.nan,\n",
    "        \"Fund_Level_1\": \"EXPENDITURE:VOTED\",\n",
    "        \"Fund_Level_2\": np.nan,\n",
    "        \"Fund_Level_3\": np.nan,\n",
    "        \"Fund_Level_4\": np.nan,\n",
    "        \"Fund_Level_5\": np.nan,\n",
    "        \"Fund_Level_6\": np.nan,\n",
    "        \"Fund_Level_7\": np.nan,\n",
    "        \"Fund_Level_8\": np.nan,\n",
    "        \"Fund_Lowest_Level\": np.nan,\n",
    "        \"Infrastructure_Level_1\": np.nan,\n",
    "        \"Infrastructure_Level_2\": np.nan,\n",
    "        \"Infrastructure_Level_3\": np.nan,\n",
    "        \"Infrastructure_Level_4\": np.nan,\n",
    "        \"Infrastructure_Level_5\": np.nan,\n",
    "        \"Infrastructure_Level_6\": np.nan,\n",
    "        \"Infrastructure_Lowest_Level\": np.nan,\n",
    "        \"Item_Level_1\": np.nan,\n",
    "        \"Item_Level_2\": np.nan,\n",
    "        \"Item_Level_3\": np.nan,\n",
    "        \"Item_Level_4\": np.nan,\n",
    "        \"Item_Level_5\": np.nan,\n",
    "        \"Item_Level_6\": np.nan,\n",
    "        \"Item_Level_7\": np.nan,\n",
    "        \"Item_Level_8\": np.nan,\n",
    "        \"Regional_ID_Level_1\": np.nan,\n",
    "        \"Regional_ID_Level_2\": np.nan,\n",
    "        \"Regional_ID_Level_3\": np.nan,\n",
    "        \"Regional_ID_Level_4\": np.nan,\n",
    "        \"Regional_ID_Level_5\": np.nan,\n",
    "        \"Regional_ID_Level_6\": np.nan,\n",
    "        \"Regional_ID_Level_7\": np.nan,\n",
    "        \"Regional_ID_Level_8\": np.nan,\n",
    "        \"Regional_ID_Lowest_Level\": np.nan,\n",
    "        \"Budget\": \"0, 5000\",\n",
    "        \"AdjustmentBudget\": \"50, -200\",\n",
    "        \"April\": \"1428, 7, -30\",\n",
    "        \"May\": \"1428, 7, -31\",\n",
    "        \"June\": \"1428, 7, -32\",\n",
    "        \"July\": \"1428, 7, -33\",\n",
    "        \"August\": \"1428, 7, -34\",\n",
    "        \"September\": \"1428, 7, -35\",\n",
    "        \"October\": \"1428, 7, -36\",\n",
    "        \"November\": \"1428, 7, -37\",\n",
    "        \"December\": \"1428, 7, -38\",\n",
    "        \"January\": \"1428, 7, -39\",\n",
    "        \"February\": \"1428, 7, -40\",\n",
    "        \"March\": \"1428, 7, -41\",\n",
    "        \"Q1\": \"20937, 55\",\n",
    "        \"Q2\": \"20937, 56\",\n",
    "        \"Q3\": \"20937, 57\",\n",
    "        \"Q4\": \"20937, 58\",\n",
    "        \"Financial_Year\": \"2019/20\",\n",
    "    },\n",
    "}"
   ]
  },
  {
   "cell_type": "code",
   "execution_count": null,
   "id": "123e0686",
   "metadata": {
    "papermill": {
     "duration": null,
     "end_time": null,
     "exception": null,
     "start_time": null,
     "status": "pending"
    },
    "tags": []
   },
   "outputs": [],
   "source": [
    "metadata = pd.DataFrame(metadata_dict)\n",
    "\n",
    "intended_map_types = (\n",
    "    metadata[\"Data type\"]\n",
    "    .map(\n",
    "        {\n",
    "            \"number\": np.float32,\n",
    "            \"text\": \"object\",\n",
    "        }\n",
    "    )\n",
    "    .to_dict()\n",
    ")\n",
    "\n",
    "# data is super dirty. so fix_map_types\n",
    "map_types_temp = {k: \"object\" for k, v in intended_map_types.items()}\n",
    "\n",
    "# drop empty columns\n",
    "to_drop = metadata[metadata[\"Sample attributes\"].isna()].index.to_list()\n",
    "\n",
    "columns_to_keep = set(map_types_temp.keys()) - set(to_drop)\n",
    "csvs_to_save = [\n",
    "    DATA_PATH / \"{}.csv\".format(f) for f in sorted(FILE_ENDPOINTS_FULL.keys())\n",
    "]"
   ]
  },
  {
   "cell_type": "code",
   "execution_count": null,
   "id": "ff564059-3820-4878-8fa2-33544239475c",
   "metadata": {
    "papermill": {
     "duration": null,
     "end_time": null,
     "exception": null,
     "start_time": null,
     "status": "pending"
    },
    "tags": []
   },
   "outputs": [],
   "source": [
    "csvs_to_read"
   ]
  },
  {
   "cell_type": "code",
   "execution_count": null,
   "id": "760f6be0",
   "metadata": {
    "papermill": {
     "duration": null,
     "end_time": null,
     "exception": null,
     "start_time": null,
     "status": "pending"
    },
    "tags": []
   },
   "outputs": [],
   "source": [
    "df = pd.concat(\n",
    "    [\n",
    "        read_dirty_treasury_csv(filepath, columns_to_keep, map_types_temp)\n",
    "        for filepath in tqdm(csvs_to_read)\n",
    "    ],\n",
    "    axis=0,\n",
    "    ignore_index=True,\n",
    ")\n",
    "\n",
    "original_col_order = list(df.columns)"
   ]
  },
  {
   "cell_type": "code",
   "execution_count": null,
   "id": "7b1c9775-c09f-43f9-a6f4-4530c29bdbda",
   "metadata": {
    "papermill": {
     "duration": null,
     "end_time": null,
     "exception": null,
     "start_time": null,
     "status": "pending"
    },
    "tags": []
   },
   "outputs": [],
   "source": [
    "%%time\n",
    "\n",
    "# convert num cols to nums, coercing errors\n",
    "intended_num_cols = {k for k, v in intended_map_types.items() if v == np.float32}\n",
    "\n",
    "# remove spaces from num cols\n",
    "numeric_cols = df.loc[:, intended_num_cols].apply(\n",
    "    lambda col: col.str.strip(\" \"), axis=0\n",
    ")\n",
    "\n",
    "# coerce to numeric\n",
    "numeric_cols = numeric_cols.apply(\n",
    "    lambda col: pd.to_numeric(col, errors=\"coerce\", downcast=\"float\"), axis=0\n",
    ")\n",
    "\n",
    "# bring back to main dataframe\n",
    "df = df.drop(columns=intended_num_cols)\n",
    "df = pd.concat([df, numeric_cols], axis=1)"
   ]
  },
  {
   "cell_type": "code",
   "execution_count": null,
   "id": "481b6da5-0b57-49d6-ad9b-ef73ace31271",
   "metadata": {
    "papermill": {
     "duration": null,
     "end_time": null,
     "exception": null,
     "start_time": null,
     "status": "pending"
    },
    "tags": []
   },
   "outputs": [],
   "source": [
    "# reorder columns to original order\n",
    "df = df.loc[:, original_col_order]"
   ]
  },
  {
   "cell_type": "code",
   "execution_count": null,
   "id": "7a8d1e5a",
   "metadata": {
    "papermill": {
     "duration": null,
     "end_time": null,
     "exception": null,
     "start_time": null,
     "status": "pending"
    },
    "tags": []
   },
   "outputs": [],
   "source": [
    "%%time\n",
    "\n",
    "# https://github.com/deepak7376/downcast/blob/master/src/downcast.py\n",
    "def reduce(df):\n",
    "    cols = df.dtypes.index.tolist()\n",
    "    types = df.dtypes.values.tolist()\n",
    "    for i, t in enumerate(types):\n",
    "        if \"int\" in str(t):\n",
    "            if (\n",
    "                df[cols[i]].min() > np.iinfo(np.int8).min\n",
    "                and df[cols[i]].max() < np.iinfo(np.int8).max\n",
    "            ):\n",
    "                df[cols[i]] = df[cols[i]].astype(np.int8)\n",
    "            elif (\n",
    "                df[cols[i]].min() > np.iinfo(np.int16).min\n",
    "                and df[cols[i]].max() < np.iinfo(np.int16).max\n",
    "            ):\n",
    "                df[cols[i]] = df[cols[i]].astype(np.int16)\n",
    "            elif (\n",
    "                df[cols[i]].min() > np.iinfo(np.int32).min\n",
    "                and df[cols[i]].max() < np.iinfo(np.int32).max\n",
    "            ):\n",
    "                df[cols[i]] = df[cols[i]].astype(np.int32)\n",
    "            else:\n",
    "                df[cols[i]] = df[cols[i]].astype(np.int64)\n",
    "        elif \"float\" in str(t):\n",
    "            if (\n",
    "                df[cols[i]].min() > np.finfo(np.float16).min\n",
    "                and df[cols[i]].max() < np.finfo(np.float16).max\n",
    "            ):\n",
    "                df[cols[i]] = df[cols[i]].astype(np.float16)\n",
    "            elif (\n",
    "                df[cols[i]].min() > np.finfo(np.float32).min\n",
    "                and df[cols[i]].max() < np.finfo(np.float32).max\n",
    "            ):\n",
    "                df[cols[i]] = df[cols[i]].astype(np.float32)\n",
    "            else:\n",
    "                df[cols[i]] = df[cols[i]].astype(np.float64)\n",
    "        elif t == np.object:\n",
    "            if cols[i] == \"date\":\n",
    "                df[cols[i]] = pd.to_datetime(df[cols[i]], format=\"%Y-%m-%d\")\n",
    "            else:\n",
    "                df[cols[i]] = df[cols[i]].astype(\"category\")\n",
    "    return df\n",
    "\n",
    "\n",
    "df = reduce(df)"
   ]
  },
  {
   "cell_type": "code",
   "execution_count": null,
   "id": "525fbb87",
   "metadata": {
    "papermill": {
     "duration": null,
     "end_time": null,
     "exception": null,
     "start_time": null,
     "status": "pending"
    },
    "tags": []
   },
   "outputs": [],
   "source": [
    "df.info(memory_usage=\"deep\")"
   ]
  },
  {
   "cell_type": "code",
   "execution_count": null,
   "id": "4ced4d9a",
   "metadata": {
    "papermill": {
     "duration": null,
     "end_time": null,
     "exception": null,
     "start_time": null,
     "status": "pending"
    },
    "tags": []
   },
   "outputs": [],
   "source": [
    "missings = df.isna().mean(axis=0).sort_values()\n",
    "missings"
   ]
  },
  {
   "cell_type": "code",
   "execution_count": null,
   "id": "cd7754e3",
   "metadata": {
    "papermill": {
     "duration": null,
     "end_time": null,
     "exception": null,
     "start_time": null,
     "status": "pending"
    },
    "tags": []
   },
   "outputs": [],
   "source": [
    "metadata.T"
   ]
  },
  {
   "cell_type": "markdown",
   "id": "6cc85213-20eb-4d04-9d7d-8aafbe890903",
   "metadata": {
    "papermill": {
     "duration": null,
     "end_time": null,
     "exception": null,
     "start_time": null,
     "status": "pending"
    },
    "tags": []
   },
   "source": [
    "## Export to SQLite Database"
   ]
  },
  {
   "cell_type": "code",
   "execution_count": null,
   "id": "b869ec33-ae37-4362-a14e-77a11133a28f",
   "metadata": {
    "papermill": {
     "duration": null,
     "end_time": null,
     "exception": null,
     "start_time": null,
     "status": "pending"
    },
    "tags": []
   },
   "outputs": [],
   "source": [
    "DB_PATH = \"/home/jovyan/work/data/processed/SAGovBudget.sqlite\"\n",
    "\n",
    "try:\n",
    "    os.remove(DB_PATH)\n",
    "except FileNotFoundError:\n",
    "    pass"
   ]
  },
  {
   "cell_type": "code",
   "execution_count": null,
   "id": "8fd31fbf-3289-4f8a-9ad7-d5e9e6dca29f",
   "metadata": {
    "papermill": {
     "duration": null,
     "end_time": null,
     "exception": null,
     "start_time": null,
     "status": "pending"
    },
    "tags": []
   },
   "outputs": [],
   "source": [
    "%%time\n",
    "\n",
    "conn = sqlite3.connect(DB_PATH)\n",
    "\n",
    "# write dataframe to sqlitedb\n",
    "df.to_sql(\n",
    "    name=\"National\", con=conn, if_exists=\"replace\", index=False, chunksize=100_000\n",
    ")\n",
    "metadata.to_sql(name=\"Metadata\", con=conn, if_exists=\"replace\", index=False)\n",
    "\n",
    "conn.close()"
   ]
  },
  {
   "cell_type": "code",
   "execution_count": null,
   "id": "f9005f9e",
   "metadata": {
    "papermill": {
     "duration": null,
     "end_time": null,
     "exception": null,
     "start_time": null,
     "status": "pending"
    },
    "tags": []
   },
   "outputs": [],
   "source": []
  }
 ],
 "metadata": {
  "kernelspec": {
   "display_name": "Python 3 (ipykernel)",
   "language": "python",
   "name": "python3"
  },
  "language_info": {
   "codemirror_mode": {
    "name": "ipython",
    "version": 3
   },
   "file_extension": ".py",
   "mimetype": "text/x-python",
   "name": "python",
   "nbconvert_exporter": "python",
   "pygments_lexer": "ipython3",
   "version": "3.9.6"
  },
  "papermill": {
   "default_parameters": {},
   "duration": null,
   "end_time": null,
   "environment_variables": {},
   "exception": null,
   "input_path": "/home/jovyan/work/notebooks/CollateData.ipynb",
   "output_path": "/home/jovyan/work/notebooks/CollateData-OUTPUT.ipynb",
   "parameters": {},
   "start_time": "2021-09-21T09:54:09.508857",
   "version": "2.3.3"
  }
 },
 "nbformat": 4,
 "nbformat_minor": 5
}